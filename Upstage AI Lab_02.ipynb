{
 "cells": [
  {
   "cell_type": "markdown",
   "metadata": {},
   "source": [
    "2024년 7월 24일"
   ]
  },
  {
   "cell_type": "markdown",
   "metadata": {},
   "source": [
    "논리적 사고력을 키우기 위해 알고리즘을 직접 코딩테스트 처럼 진행해보았다.\n",
    "\n",
    "처음으로 문제를 접하여 사고력만으로 코딩을 작성하였기 때문에 처음에 많은 어려움이 있었다. \n",
    "\n",
    "그러나 강사님의 설명으로 나름 쉽게 이해할 수 있었다."
   ]
  },
  {
   "cell_type": "markdown",
   "metadata": {},
   "source": [
    "# 패스트캠퍼스 # AI부트캠프 # Upstage AI Lab # 업스테이지패스트캠퍼스"
   ]
  },
  {
   "cell_type": "code",
   "execution_count": 1,
   "metadata": {},
   "outputs": [
    {
     "name": "stdout",
     "output_type": "stream",
     "text": [
      "Before swap : a = 5, b = 10\n",
      "After swap : a = 10, b = 5\n"
     ]
    },
    {
     "data": {
      "text/plain": [
       "(10, 5)"
      ]
     },
     "execution_count": 1,
     "metadata": {},
     "output_type": "execute_result"
    }
   ],
   "source": [
    "def swap_with_temp(a,b):\n",
    "    print(f'Before swap : a = {a}, b = {b}')\n",
    "\n",
    "    # temp 변수를 사용하여 값 변환\n",
    "    temp = a\n",
    "    a = b\n",
    "    b = temp\n",
    "\n",
    "    print(f'After swap : a = {a}, b = {b}')\n",
    "    return a, b\n",
    "\n",
    "# 예제 실행\n",
    "swap_with_temp(5, 10)"
   ]
  },
  {
   "cell_type": "code",
   "execution_count": 15,
   "metadata": {},
   "outputs": [
    {
     "name": "stdout",
     "output_type": "stream",
     "text": [
      "누적 계산 : 154290\n"
     ]
    }
   ],
   "source": [
    "def accu(n):\n",
    "    total = 0\n",
    "    for i in range(1, n+1):\n",
    "        total += i\n",
    "    return total\n",
    "\n",
    "print('누적 계산 :' ,accu(555))"
   ]
  },
  {
   "cell_type": "code",
   "execution_count": 29,
   "metadata": {},
   "outputs": [
    {
     "name": "stdout",
     "output_type": "stream",
     "text": [
      "짝수 : 50\n",
      "홀수 : 50\n"
     ]
    }
   ],
   "source": [
    "def sum_even_odd(n):\n",
    "    sum_even = 0\n",
    "    sum_odd = 0\n",
    "    for i in range(1, n+1):\n",
    "        if i % 2 == 0:\n",
    "            sum_even += 1\n",
    "        else:\n",
    "            sum_odd += 1    \n",
    "    return sum_even, sum_odd\n",
    "\n",
    "even_sum, odd_sum = sum_even_odd(100)\n",
    "\n",
    "print('짝수 :', even_sum)\n",
    "print('홀수 :', odd_sum)   "
   ]
  },
  {
   "cell_type": "code",
   "execution_count": 33,
   "metadata": {},
   "outputs": [
    {
     "name": "stdout",
     "output_type": "stream",
     "text": [
      "짝수 : 5\n",
      "홀수 : 5\n"
     ]
    }
   ],
   "source": [
    "def count_even_odd(n):\n",
    "    count_even = 0\n",
    "    count_odd = 0\n",
    "    for i in range(1, n+1):\n",
    "        if i % 2 == 0:\n",
    "            count_even += 1\n",
    "        else:\n",
    "            count_odd += 1    \n",
    "    return count_even, count_odd\n",
    "\n",
    "even_count, odd_count = count_even_odd(10)\n",
    "\n",
    "print('짝수 :', even_count)\n",
    "print('홀수 :', odd_count)   "
   ]
  },
  {
   "cell_type": "code",
   "execution_count": 75,
   "metadata": {},
   "outputs": [
    {
     "name": "stdout",
     "output_type": "stream",
     "text": [
      "1의 개수 : 1 ■ \n",
      "2의 개수 : 2 ■ ■ \n",
      "3의 개수 : 3 ■ ■ ■ \n",
      "4의 개수 : 1 ■ \n"
     ]
    }
   ],
   "source": [
    "def count_frequencies(n):\n",
    "    max_number = max(n)\n",
    "    counts = [0] * max_number\n",
    "\n",
    "    for number in n:\n",
    "        counts[number -1] += 1\n",
    "    return counts\n",
    "\n",
    "numbers = [1,3,2,3,4,3,2]\n",
    "frquency_counts = count_frequencies(numbers)\n",
    "\n",
    "for i in range(len(frquency_counts)):\n",
    "    print(f'{i+1}의 개수 : {frquency_counts[i]}', end=' ')\n",
    "    for j in range(1, frquency_counts[i]+1):\n",
    "        print(f'■', end=\" \")\n",
    "    print()"
   ]
  },
  {
   "cell_type": "code",
   "execution_count": 76,
   "metadata": {},
   "outputs": [
    {
     "name": "stdout",
     "output_type": "stream",
     "text": [
      "Maximum : 5, Minimum : 1\n"
     ]
    }
   ],
   "source": [
    "def fine_max_min(n):\n",
    "    maximum = n[0]\n",
    "    minimum = n[0]\n",
    "\n",
    "    for num in n:\n",
    "        if num > maximum:\n",
    "            maximum = num\n",
    "        if num < minimum:\n",
    "            minimum = num\n",
    "    return maximum, minimum\n",
    "\n",
    "numbers = [1, 2,3, 4,5]\n",
    "max_val, min_val = fine_max_min(numbers)\n",
    "\n",
    "print(f'Maximum : {max_val}, Minimum : {min_val}')"
   ]
  },
  {
   "cell_type": "code",
   "execution_count": 81,
   "metadata": {},
   "outputs": [
    {
     "name": "stdout",
     "output_type": "stream",
     "text": [
      "Index of 6 : None\n"
     ]
    }
   ],
   "source": [
    "def seq_search(n, target):\n",
    "    for index in range(len(n)):\n",
    "        if numbers[index] == target:\n",
    "            return index\n",
    "    return None\n",
    "\n",
    "numbers = [1,2,3,4,5]\n",
    "target = 6\n",
    "print(f'Index of {target} : {seq_search(numbers, target)}')"
   ]
  },
  {
   "cell_type": "code",
   "execution_count": 88,
   "metadata": {},
   "outputs": [
    {
     "name": "stdout",
     "output_type": "stream",
     "text": [
      "Index of 3 : 2\n"
     ]
    }
   ],
   "source": [
    "def binary_search(n, target):\n",
    "    left, right = 0, len(n) -1\n",
    "    while left <= right:\n",
    "        mid = (left + right) // 2\n",
    "        if n[mid] == target:\n",
    "            return mid\n",
    "        elif n[mid] < target:\n",
    "            left = mid + 1\n",
    "        else:\n",
    "            left = mid - 1\n",
    "    return None\n",
    "\n",
    "numbers = [1,2,3,4,5]\n",
    "target = 3\n",
    "print(f'Index of {target} : {binary_search(numbers, target)}')"
   ]
  },
  {
   "cell_type": "code",
   "execution_count": 117,
   "metadata": {},
   "outputs": [
    {
     "name": "stdout",
     "output_type": "stream",
     "text": [
      "\n",
      "******\n",
      "*****\n",
      "****\n",
      "***\n",
      "**\n",
      "*\n",
      "*\n",
      "******\n",
      "*****\n",
      "****\n",
      "***\n",
      "**\n",
      "*\n",
      "**\n",
      "******\n",
      "*****\n",
      "****\n",
      "***\n",
      "**\n",
      "*\n",
      "***\n",
      "******\n",
      "*****\n",
      "****\n",
      "***\n",
      "**\n",
      "*\n",
      "****\n",
      "******\n",
      "*****\n",
      "****\n",
      "***\n",
      "**\n",
      "*\n",
      "*****\n",
      "******\n",
      "*****\n",
      "****\n",
      "***\n",
      "**\n",
      "*\n"
     ]
    }
   ],
   "source": [
    "for i in range(6):\n",
    "    print('*' * i)\n",
    "    for j in range(6, 0, -1):\n",
    "        print('*' * j)"
   ]
  },
  {
   "cell_type": "code",
   "execution_count": 21,
   "metadata": {},
   "outputs": [
    {
     "name": "stdout",
     "output_type": "stream",
     "text": [
      "입력 데이터 11개: [34, 7, 23, 32, 5, 62, 32, 25, 12, 22, 32]\n",
      "데이터 10개를 오름차순한 결과: [5, 7, 12, 22, 23, 25, 32, 32, 34, 62]\n",
      "11번째 데이터가 배열에 있으면 해당 위치를 출력: 7\n"
     ]
    }
   ],
   "source": [
    "def selection_sort(arr):\n",
    "    # 선택 정렬 알고리즘\n",
    "    n = len(arr)\n",
    "    for i in range(n - 1):\n",
    "        min_index = i\n",
    "        for j in range(i + 1, n):\n",
    "            if arr[j] < arr[min_index]:\n",
    "                min_index = j\n",
    "        arr[i], arr[min_index] = arr[min_index], arr[i]\n",
    "    return arr\n",
    "\n",
    "def binary_search(arr, target):\n",
    "    # 이진 검색 알고리즘\n",
    "    left, right = 0, len(arr) - 1\n",
    "    while left <= right:\n",
    "        mid = (left + right) // 2\n",
    "        if arr[mid] == target:\n",
    "            return mid\n",
    "        elif arr[mid] < target:\n",
    "            left = mid + 1\n",
    "        else:\n",
    "            right = mid - 1\n",
    "    return -1\n",
    "\n",
    "def search_last_in_first_ten(arr):\n",
    "    # 배열에서 마지막 데이터를 앞의 10개에서 검색하는 함수\n",
    "    data = arr[:-1]\n",
    "    target = arr[-1]\n",
    "    \n",
    "    sorted_data = selection_sort(data)\n",
    "    result = binary_search(sorted_data, target)\n",
    "    \n",
    "    return sorted_data, result\n",
    "\n",
    "# 예제 데이터\n",
    "data = [34, 7, 23, 32, 5, 62, 32, 25, 12, 22, 32]\n",
    "\n",
    "# 입력 데이터 출력\n",
    "print(\"입력 데이터 11개:\", data)\n",
    "\n",
    "# 데이터 정렬 및 검색\n",
    "sorted_data, index = search_last_in_first_ten(data)\n",
    "\n",
    "# 결과 출력\n",
    "print(\"데이터 10개를 오름차순한 결과:\", sorted_data)\n",
    "if index != -1:\n",
    "    print(f\"11번째 데이터가 배열에 있으면 해당 위치를 출력: {index}\")\n",
    "else:\n",
    "    print(\"데이터가 없으면 -1을 출력: -1\")"
   ]
  },
  {
   "cell_type": "code",
   "execution_count": 20,
   "metadata": {},
   "outputs": [
    {
     "name": "stdout",
     "output_type": "stream",
     "text": [
      "[1, 2, 3, 4, 5, 6, 7, 8, 9, 10, 11, 12]\n"
     ]
    }
   ],
   "source": [
    "a = input().split(',')\n",
    "a = list(map(int, a))\n",
    "print(a)"
   ]
  },
  {
   "cell_type": "code",
   "execution_count": 28,
   "metadata": {},
   "outputs": [
    {
     "name": "stdout",
     "output_type": "stream",
     "text": [
      "자동차 높이가 189이므로 PASS\n",
      "최종 결과 : PASS\n"
     ]
    }
   ],
   "source": [
    "in_put = input().split(\",\")\n",
    "\n",
    "for i in in_put:\n",
    "    if int(i) <= 170:\n",
    "        print(f'자동차 높이가 {i}이므로 CRASH')\n",
    "        print('최종 결과 : CRASH')\n",
    "        break\n",
    "    else:\n",
    "        print(f'자동차 높이가 {i}이므로 PASS')\n",
    "        print('최종 결과 : PASS')"
   ]
  },
  {
   "cell_type": "code",
   "execution_count": 44,
   "metadata": {},
   "outputs": [
    {
     "name": "stdout",
     "output_type": "stream",
     "text": [
      "oh my god\n"
     ]
    }
   ],
   "source": [
    "def check_workday(day_number):\n",
    "    workdays = [1,3,5,7]\n",
    "\n",
    "    if day_number in workdays:\n",
    "        return \"oh my god\"\n",
    "    else:\n",
    "        return \"enjoy\"\n",
    "\n",
    "day_number = int(input(\"요일 번호를 입력하세요.\"))\n",
    "\n",
    "result = check_workday(day_number)\n",
    "print(result)"
   ]
  },
  {
   "cell_type": "code",
   "execution_count": 54,
   "metadata": {},
   "outputs": [
    {
     "name": "stdout",
     "output_type": "stream",
     "text": [
      "11 30\n"
     ]
    }
   ],
   "source": [
    "time = input().split()\n",
    "\n",
    "time = list(map(int, time))\n",
    "\n",
    "h, m = time[0], time[1]\n",
    "\n",
    "if m >= 30:\n",
    "    print(h, m-30)\n",
    "elif h == 0:\n",
    "    print(h + 23, m + 30)\n",
    "else:\n",
    "    print(h-1, m+30)"
   ]
  },
  {
   "cell_type": "code",
   "execution_count": 4,
   "metadata": {},
   "outputs": [
    {
     "name": "stdout",
     "output_type": "stream",
     "text": [
      "Recursive : Factorial of 5 is 120\n"
     ]
    }
   ],
   "source": [
    "# 순환호출(재귀)\n",
    "def factorial(n):\n",
    "    if n == 1:\n",
    "        return 1\n",
    "    else:\n",
    "        return (n * factorial(n-1))\n",
    "    \n",
    "print(f'Recursive : Factorial of 5 is {factorial(5)}')"
   ]
  },
  {
   "cell_type": "code",
   "execution_count": 166,
   "metadata": {},
   "outputs": [
    {
     "name": "stdout",
     "output_type": "stream",
     "text": [
      "8 : no prime\n"
     ]
    }
   ],
   "source": [
    "input_num = input().split(',')\n",
    "\n",
    "for i in range(int(input_num[0]), int(input_num[1])-1):\n",
    "\tif int(input_num[1]) % i == 0:\n",
    "\t\tprint(f'{input_num[1]} : no prime')\n",
    "\t\tbreak\n",
    "\telse:\n",
    "\t\tprint(f'{input_num[1]} : prime')\n",
    "\t\tbreak"
   ]
  },
  {
   "cell_type": "code",
   "execution_count": 8,
   "metadata": {},
   "outputs": [
    {
     "name": "stdout",
     "output_type": "stream",
     "text": [
      "두 수의 합 : 4 \n",
      "\n",
      "1 3\n",
      "2 2\n",
      "3 1\n"
     ]
    }
   ],
   "source": [
    "num = int(input())\n",
    "\n",
    "print('두 수의 합 :',num, '\\n') \n",
    "for i in range(1,7):\n",
    "    for j in range(1,7):\n",
    "        if i + j == num:\n",
    "            print(i,j)"
   ]
  },
  {
   "cell_type": "code",
   "execution_count": 10,
   "metadata": {},
   "outputs": [
    {
     "name": "stdout",
     "output_type": "stream",
     "text": [
      "강철 선생님이 교환할 수 있는 아메리카노의 최대 잔 수는 49잔 입니다.\n"
     ]
    }
   ],
   "source": [
    "def max_americano(K, N):\n",
    "    total_cups = 0\n",
    "    coupons = K\n",
    "\n",
    "    while coupons >= N:\n",
    "        new_cups = coupons // N\n",
    "        total_cups += new_cups\n",
    "        coupons = coupons % N + new_cups\n",
    "\n",
    "    return total_cups\n",
    "\n",
    "K = int(input(\"현재 가지고 있는 쿠폰 개수: \"))\n",
    "N = int(input(\"교환에 필요한 쿠폰 개수: \"))\n",
    "\n",
    "result = max_americano(K, N)\n",
    "print(f\"강철 선생님이 교환할 수 있는 아메리카노의 최대 잔 수는 {result}잔 입니다.\")"
   ]
  },
  {
   "cell_type": "code",
   "execution_count": 13,
   "metadata": {},
   "outputs": [
    {
     "name": "stdout",
     "output_type": "stream",
     "text": [
      "6 \n",
      "8 2 \n",
      "8 0 -2 \n",
      "3 -5 -5 -3 \n"
     ]
    }
   ],
   "source": [
    "arr=[[0 for col in range(20)] \n",
    "            for row in range(20)]\n",
    "n = int(input())\n",
    "for i in range(n):\n",
    "   arr[i][0]=int(input())\n",
    "for i in range(1,n):\n",
    "   for j in range(0,i):\n",
    "       arr[i][j+1]=arr[i][j]-arr[i-1][j]\n",
    "for i in range(0,n):\n",
    "   for j in range(0,i+1):\n",
    "       print(arr[i][j],end=' ')\n",
    "   print('')"
   ]
  }
 ],
 "metadata": {
  "kernelspec": {
   "display_name": "base",
   "language": "python",
   "name": "python3"
  },
  "language_info": {
   "codemirror_mode": {
    "name": "ipython",
    "version": 3
   },
   "file_extension": ".py",
   "mimetype": "text/x-python",
   "name": "python",
   "nbconvert_exporter": "python",
   "pygments_lexer": "ipython3",
   "version": "3.9.12"
  }
 },
 "nbformat": 4,
 "nbformat_minor": 2
}
![Tech Blog Badge](https://img.shields.io/badge/-Fastcampus-%23FF5722?style=flat&logo=blogger&logo)
